{
 "cells": [
  {
   "cell_type": "code",
   "execution_count": 9,
   "metadata": {},
   "outputs": [],
   "source": [
    "def oddeven(n):\n",
    "    r = ''\n",
    "    if n%2 == 0:\n",
    "        r += \"even\"\n",
    "    if n%4 == 0:\n",
    "        r +=\" and divisible by four\"\n",
    "    else:\n",
    "        r += \"odd\"\n",
    "    return r\n",
    "    "
   ]
  },
  {
   "cell_type": "code",
   "execution_count": 10,
   "metadata": {},
   "outputs": [
    {
     "data": {
      "text/plain": [
       "'even and divisible by four'"
      ]
     },
     "execution_count": 10,
     "metadata": {},
     "output_type": "execute_result"
    }
   ],
   "source": [
    "oddeven(4)"
   ]
  },
  {
   "cell_type": "code",
   "execution_count": 11,
   "metadata": {},
   "outputs": [],
   "source": [
    "def divisible(num, div):\n",
    "    if num%div == 0:\n",
    "        r = 'numbers are factors'\n",
    "    else:\n",
    "        r = \"numbers not factors\"\n",
    "    return r"
   ]
  },
  {
   "cell_type": "code",
   "execution_count": 14,
   "metadata": {},
   "outputs": [
    {
     "data": {
      "text/plain": [
       "'numbers are factors'"
      ]
     },
     "execution_count": 14,
     "metadata": {},
     "output_type": "execute_result"
    }
   ],
   "source": [
    "divisible(10,5)"
   ]
  },
  {
   "cell_type": "code",
   "execution_count": 8,
   "metadata": {},
   "outputs": [],
   "source": [
    "import random\n",
    "def random_list(listlen,maxvalue,rounded):\n",
    "    randomlist=[]\n",
    "    for i in range(0,listlen):\n",
    "        n = random.random()*maxvalue\n",
    "        n = round(n,ndigits=rounded)\n",
    "        randomlist.append(n)\n",
    "    return randomlist"
   ]
  },
  {
   "cell_type": "code",
   "execution_count": 22,
   "metadata": {},
   "outputs": [],
   "source": [
    "L=random_list(10,50,0)"
   ]
  },
  {
   "cell_type": "code",
   "execution_count": 23,
   "metadata": {},
   "outputs": [
    {
     "data": {
      "text/plain": [
       "[8.0, 43.0, 6.0, 24.0, 47.0, 2.0, 38.0, 12.0, 11.0, 50.0]"
      ]
     },
     "execution_count": 23,
     "metadata": {},
     "output_type": "execute_result"
    }
   ],
   "source": [
    "L"
   ]
  },
  {
   "cell_type": "code",
   "execution_count": 24,
   "metadata": {},
   "outputs": [],
   "source": [
    "L.sort()"
   ]
  },
  {
   "cell_type": "code",
   "execution_count": 25,
   "metadata": {},
   "outputs": [
    {
     "data": {
      "text/plain": [
       "[2.0, 6.0, 8.0, 11.0, 12.0, 24.0, 38.0, 43.0, 47.0, 50.0]"
      ]
     },
     "execution_count": 25,
     "metadata": {},
     "output_type": "execute_result"
    }
   ],
   "source": [
    "L"
   ]
  },
  {
   "cell_type": "code",
   "execution_count": 26,
   "metadata": {},
   "outputs": [],
   "source": [
    "L1 = []\n",
    "for n in L:\n",
    "    if n < 10:\n",
    "        L1.append(n)"
   ]
  },
  {
   "cell_type": "code",
   "execution_count": 27,
   "metadata": {},
   "outputs": [
    {
     "data": {
      "text/plain": [
       "[2.0, 6.0, 8.0]"
      ]
     },
     "execution_count": 27,
     "metadata": {},
     "output_type": "execute_result"
    }
   ],
   "source": [
    "L1"
   ]
  },
  {
   "cell_type": "code",
   "execution_count": 35,
   "metadata": {},
   "outputs": [],
   "source": [
    "def lessthan10(limit):\n",
    "    L1 = []\n",
    "    for n in L:\n",
    "         if n < limit:\n",
    "            L1.append(n)\n",
    "    return L1"
   ]
  },
  {
   "cell_type": "code",
   "execution_count": 31,
   "metadata": {},
   "outputs": [
    {
     "data": {
      "text/plain": [
       "[2.0, 6.0, 8.0, 11.0, 12.0]"
      ]
     },
     "execution_count": 31,
     "metadata": {},
     "output_type": "execute_result"
    }
   ],
   "source": [
    "lessthan10(20)"
   ]
  },
  {
   "cell_type": "code",
   "execution_count": 36,
   "metadata": {},
   "outputs": [],
   "source": [
    "#Create a program that asks the user for a number and then prints out a list of all the divisors of that number. \n",
    "#(If you don’t know what a divisor is, it is a number that divides evenly into another number. \n",
    "#For example, 13 is a divisor of 26 because 26 / 13 has no remainder.)"
   ]
  },
  {
   "cell_type": "code",
   "execution_count": 39,
   "metadata": {},
   "outputs": [],
   "source": [
    "def findfactors(n):\n",
    "    for i in range(1,n):\n",
    "        if n%i == 0:\n",
    "            print(i)\n",
    "    "
   ]
  },
  {
   "cell_type": "code",
   "execution_count": 44,
   "metadata": {},
   "outputs": [
    {
     "name": "stdout",
     "output_type": "stream",
     "text": [
      "1\n",
      "2\n",
      "4\n",
      "5\n",
      "7\n",
      "10\n",
      "14\n",
      "20\n",
      "28\n",
      "35\n",
      "70\n"
     ]
    }
   ],
   "source": [
    "findfactors(140)"
   ]
  },
  {
   "cell_type": "code",
   "execution_count": 45,
   "metadata": {},
   "outputs": [],
   "source": [
    "List = random_list(10,10,0)"
   ]
  },
  {
   "cell_type": "code",
   "execution_count": 47,
   "metadata": {},
   "outputs": [],
   "source": [
    "List2 = random_list(10,10,0)"
   ]
  },
  {
   "cell_type": "code",
   "execution_count": 53,
   "metadata": {},
   "outputs": [
    {
     "name": "stdout",
     "output_type": "stream",
     "text": [
      "[8.0, 9.0, 7.0, 7.0, 6.0, 2.0, 9.0, 7.0, 2.0, 4.0]\n",
      "[9.0, 6.0, 0.0, 9.0, 0.0, 8.0, 5.0, 9.0, 4.0, 9.0]\n"
     ]
    }
   ],
   "source": [
    "print(List)\n",
    "print(List2)\n",
    "\n",
    "a = List\n",
    "b = List2\n",
    "c = []\n",
    "\n",
    "for i in b:\n",
    "    if i in a:\n",
    "        if i not in c:\n",
    "            c.append(i)\n",
    "\n"
   ]
  },
  {
   "cell_type": "code",
   "execution_count": 60,
   "metadata": {},
   "outputs": [],
   "source": [
    "c.sort()"
   ]
  },
  {
   "cell_type": "code",
   "execution_count": 6,
   "metadata": {},
   "outputs": [
    {
     "name": "stdin",
     "output_type": "stream",
     "text": [
      "Please enter a word: abba\n"
     ]
    },
    {
     "name": "stdout",
     "output_type": "stream",
     "text": [
      "abba\n",
      "abba\n",
      "PALINDROME\n"
     ]
    }
   ],
   "source": [
    "word = input('Please enter a word:')\n",
    "word = str(word)\n",
    "reverse = word[::-1]\n",
    "print(word)\n",
    "print(reverse)\n",
    "if word == reverse:\n",
    "    print(\"PALINDROME\")\n",
    "else:\n",
    "    print(\"panliNOPE\")"
   ]
  },
  {
   "cell_type": "code",
   "execution_count": 9,
   "metadata": {},
   "outputs": [],
   "source": [
    "a = random_list(10,10,0)"
   ]
  },
  {
   "cell_type": "code",
   "execution_count": 10,
   "metadata": {},
   "outputs": [
    {
     "name": "stdout",
     "output_type": "stream",
     "text": [
      "[4.0, 0.0, 2.0, 0.0, 2.0]\n"
     ]
    }
   ],
   "source": [
    "b = []\n",
    "for l in a:\n",
    "    if l%2 == 0:\n",
    "        b.append(l)\n",
    "print(b)"
   ]
  },
  {
   "cell_type": "code",
   "execution_count": 12,
   "metadata": {},
   "outputs": [],
   "source": [
    "\n",
    "c = [l for l in a if l%2 == 0]\n",
    "# ges = [2014 - year for year in years_of_birth]"
   ]
  },
  {
   "cell_type": "code",
   "execution_count": 13,
   "metadata": {},
   "outputs": [
    {
     "data": {
      "text/plain": [
       "[4.0, 0.0, 2.0, 0.0, 2.0]"
      ]
     },
     "execution_count": 13,
     "metadata": {},
     "output_type": "execute_result"
    }
   ],
   "source": [
    "c"
   ]
  },
  {
   "cell_type": "code",
   "execution_count": 15,
   "metadata": {},
   "outputs": [
    {
     "name": "stdout",
     "output_type": "stream",
     "text": [
      "rock\n"
     ]
    }
   ],
   "source": [
    "player1 = \"RoCk\"\n",
    "player=player1.lower()\n",
    "print(player)"
   ]
  },
  {
   "cell_type": "code",
   "execution_count": 19,
   "metadata": {},
   "outputs": [
    {
     "name": "stdin",
     "output_type": "stream",
     "text": [
      "Rock, Paper or Scissors?  red\n",
      "Rock, Paper or Scissors?  blue\n"
     ]
    },
    {
     "name": "stdout",
     "output_type": "stream",
     "text": [
      "Invalid input, please enter again\n"
     ]
    }
   ],
   "source": [
    "player1 = input('Rock, Paper or Scissors? ')\n",
    "p1 = player1.lower()\n",
    "player2 = input('Rock, Paper or Scissors? ')\n",
    "p2 = player2.lower()\n",
    "\n",
    "if p1 == p2:\n",
    "    print('draw')\n",
    "elif p1 == 'rock':\n",
    "    if p2 == 'paper':\n",
    "        print('Player 2 wins!')\n",
    "    else:\n",
    "        print('Player 1 wins!')\n",
    "elif p1 == 'paper':\n",
    "        if p2 == 'scissors':\n",
    "            print('Player 2 wins!')\n",
    "        else:\n",
    "            print('Player 1 wins!')\n",
    "elif p1 == 'scissors':\n",
    "        if p2 == 'rock':\n",
    "            print('Player 2 wins!')\n",
    "        else:\n",
    "            print('Player 1 wins!')\n",
    "else:\n",
    "    print(\"Invalid input, please enter again\")\n",
    "\n"
   ]
  },
  {
   "cell_type": "code",
   "execution_count": 39,
   "metadata": {},
   "outputs": [
    {
     "name": "stdin",
     "output_type": "stream",
     "text": [
      "Guess the number: 8\n"
     ]
    },
    {
     "name": "stdout",
     "output_type": "stream",
     "text": [
      "Too high\n"
     ]
    },
    {
     "name": "stdin",
     "output_type": "stream",
     "text": [
      "Guess the number: 2\n"
     ]
    },
    {
     "name": "stdout",
     "output_type": "stream",
     "text": [
      "Too high\n"
     ]
    },
    {
     "name": "stdin",
     "output_type": "stream",
     "text": [
      "Guess the number: 1\n"
     ]
    },
    {
     "name": "stdout",
     "output_type": "stream",
     "text": [
      "Correct!\n",
      "You took 3 attempts.\n"
     ]
    }
   ],
   "source": [
    "import random\n",
    "\n",
    "n=random.randint(1,3)\n",
    "guess = 0\n",
    "count = 0 \n",
    "\n",
    "while guess != n and guess != exit:\n",
    "    guess = input(\"Guess the number:\")\n",
    "    if guess == 'exit':\n",
    "        break\n",
    "    guess = int(guess)\n",
    "    count += 1\n",
    "    \n",
    "    if guess > n:\n",
    "        print(\"Too high\")\n",
    "    elif guess < n:\n",
    "        print(\"Too low\")\n",
    "    else:\n",
    "        print('Correct!')\n",
    "        print('You took',count,'attempts.')"
   ]
  },
  {
   "cell_type": "code",
   "execution_count": 75,
   "metadata": {},
   "outputs": [
    {
     "name": "stdout",
     "output_type": "stream",
     "text": [
      "[9.0, 8.0, 3.0, 2.0]\n",
      "[3.0, 3.0, 10.0, 1.0, 8.0, 2.0, 9.0, 2.0, 1.0, 4.0, 5.0, 2.0, 1.0, 9.0, 5.0, 9.0, 1.0, 7.0, 6.0, 7.0, 3.0, 0.0, 2.0, 7.0, 5.0, 9.0, 1.0, 1.0, 6.0, 7.0, 6.0, 2.0, 1.0, 6.0, 6.0, 3.0, 2.0, 1.0, 6.0, 5.0, 6.0, 2.0, 9.0, 3.0, 7.0, 2.0, 5.0, 8.0, 3.0, 7.0]\n",
      "[]\n"
     ]
    }
   ],
   "source": [
    "a = random_list(4,10,0)\n",
    "b = random_list(50,10,0)\n",
    "c=[]\n",
    "print(a)\n",
    "print(b)\n",
    "print(c)"
   ]
  },
  {
   "cell_type": "code",
   "execution_count": 76,
   "metadata": {},
   "outputs": [
    {
     "name": "stdout",
     "output_type": "stream",
     "text": [
      "[2.0, 3.0, 8.0, 9.0]\n"
     ]
    }
   ],
   "source": [
    "for i in b:\n",
    "    if i in a and i not in c:\n",
    "        c.append(i)\n",
    "c.sort()\n",
    "print(c)"
   ]
  },
  {
   "cell_type": "code",
   "execution_count": 21,
   "metadata": {},
   "outputs": [],
   "source": [
    "#Prime number function\n",
    "def prime_number():\n",
    "    number = input(\"Input a number:\")\n",
    "    number = int(number)\n",
    "    prime = 0\n",
    "    for i in range(2,number-1):\n",
    "        #print(i)\n",
    "        if number%i == 0:\n",
    "            prime += prime + 1\n",
    "            print(\"Not prime\")\n",
    "            break\n",
    "    if (prime ==0):\n",
    "        print('Prime')"
   ]
  },
  {
   "cell_type": "code",
   "execution_count": 37,
   "metadata": {},
   "outputs": [],
   "source": [
    "def primenumber(number):\n",
    "    #number = input(\"Input a number:\")\n",
    "    number = int(number)\n",
    "    prime = 0\n",
    "    for i in range(2,number-1):\n",
    "        #print(i)\n",
    "        if number%i == 0:\n",
    "            prime += prime + 1\n",
    "            #print(\"Not prime\")\n",
    "            break\n",
    "    if (prime ==0):\n",
    "        #print('Prime')\n",
    "        return number"
   ]
  },
  {
   "cell_type": "code",
   "execution_count": 52,
   "metadata": {},
   "outputs": [
    {
     "data": {
      "text/plain": [
       "419"
      ]
     },
     "execution_count": 52,
     "metadata": {},
     "output_type": "execute_result"
    }
   ],
   "source": [
    "plist = []\n",
    "for i in range(2,1000):\n",
    "    #print(primenumber(i))\n",
    "    if primenumber(i) != None:\n",
    "        plist.append(primenumber(i))\n",
    "plist[80]"
   ]
  },
  {
   "cell_type": "code",
   "execution_count": 50,
   "metadata": {},
   "outputs": [],
   "source": [
    "import random\n",
    "def random_int(listlen,minvalue,maxvalue):\n",
    "    randintlist=[]\n",
    "    for i in range(0,listlen):\n",
    "        n = random.randint(minvalue,maxvalue)\n",
    "        randintlist.append(n)\n",
    "    return randintlist"
   ]
  },
  {
   "cell_type": "code",
   "execution_count": 61,
   "metadata": {},
   "outputs": [
    {
     "name": "stdout",
     "output_type": "stream",
     "text": [
      "[3, 5, 3, 1, 1, 1, 4, 2, 2, 7]\n",
      "[3, 7]\n"
     ]
    }
   ],
   "source": [
    "c = random_int(10,1,9)\n",
    "print(c)\n",
    "d = []\n",
    "d.append(c[0])\n",
    "d.append(c[-1])\n",
    "print(d)"
   ]
  },
  {
   "cell_type": "code",
   "execution_count": 62,
   "metadata": {},
   "outputs": [],
   "source": [
    "def list_ends(A_List):\n",
    "    return [A_List[0], A_List[-1]]"
   ]
  },
  {
   "cell_type": "code",
   "execution_count": 63,
   "metadata": {},
   "outputs": [
    {
     "data": {
      "text/plain": [
       "[3, 7]"
      ]
     },
     "execution_count": 63,
     "metadata": {},
     "output_type": "execute_result"
    }
   ],
   "source": [
    "list_ends(c)"
   ]
  },
  {
   "cell_type": "code",
   "execution_count": 74,
   "metadata": {},
   "outputs": [],
   "source": [
    "def generate_fibs(number):\n",
    "    n = 0\n",
    "    n0 = 0\n",
    "    n1 = 1\n",
    "    for i in range(0,number-1):\n",
    "        print(n1)\n",
    "        n = n0 + n1\n",
    "        n0 = n1\n",
    "        n1 = n\n",
    "    return n1"
   ]
  },
  {
   "cell_type": "code",
   "execution_count": 77,
   "metadata": {},
   "outputs": [],
   "source": [
    "def generate_fibsinput():\n",
    "    number = int(input('Input number of Fibonaccis:'))\n",
    "    n = 0\n",
    "    n0 = 0\n",
    "    n1 = 1\n",
    "    for i in range(0,number-1):\n",
    "        print(n1)\n",
    "        n = n0 + n1\n",
    "        n0 = n1\n",
    "        n1 = n\n",
    "    return n1"
   ]
  },
  {
   "cell_type": "code",
   "execution_count": 111,
   "metadata": {},
   "outputs": [
    {
     "name": "stdout",
     "output_type": "stream",
     "text": [
      "[14, 4, 14, 1, 4, 5, 14, 15, 6, 10, 11, 14, 12, 12, 13, 5, 2, 6, 14, 12, 9, 4, 14, 9, 5, 11, 2, 5, 7, 9]\n"
     ]
    }
   ],
   "source": [
    "b=random_int(30,1,15)\n",
    "print(b)\n",
    "c = [1,4,9,2,7,3,5,3,2,5,8,4,3,6]"
   ]
  },
  {
   "cell_type": "code",
   "execution_count": 122,
   "metadata": {},
   "outputs": [],
   "source": [
    "def no_dup_list(x):\n",
    "    y = []\n",
    "    [y.append(i) for i in x if i not in y]\n",
    "    return y\n",
    "    "
   ]
  },
  {
   "cell_type": "code",
   "execution_count": 125,
   "metadata": {},
   "outputs": [
    {
     "data": {
      "text/plain": [
       "[14, 4, 1, 5, 15, 6, 10, 11, 12, 13, 2, 9, 7]"
      ]
     },
     "execution_count": 125,
     "metadata": {},
     "output_type": "execute_result"
    }
   ],
   "source": [
    "no_dup_list(b)"
   ]
  },
  {
   "cell_type": "code",
   "execution_count": 144,
   "metadata": {},
   "outputs": [],
   "source": [
    "def reverse(words):\n",
    "    return \" \".join(words.split()[::-1])"
   ]
  },
  {
   "cell_type": "code",
   "execution_count": 147,
   "metadata": {},
   "outputs": [],
   "source": [
    "def reverseWord(w):\n",
    "    w = w.split()[::-1]\n",
    "    rev = \" \".join(w)\n",
    "    return rev  "
   ]
  },
  {
   "cell_type": "code",
   "execution_count": 149,
   "metadata": {},
   "outputs": [
    {
     "data": {
      "text/plain": [
       "'fox lazy the over jumps dog brown The'"
      ]
     },
     "execution_count": 149,
     "metadata": {},
     "output_type": "execute_result"
    }
   ],
   "source": [
    "reverseWord('The brown dog jumps over the lazy fox')"
   ]
  },
  {
   "cell_type": "code",
   "execution_count": null,
   "metadata": {},
   "outputs": [],
   "source": []
  }
 ],
 "metadata": {
  "kernelspec": {
   "display_name": "Python 3",
   "language": "python",
   "name": "python3"
  },
  "language_info": {
   "codemirror_mode": {
    "name": "ipython",
    "version": 3
   },
   "file_extension": ".py",
   "mimetype": "text/x-python",
   "name": "python",
   "nbconvert_exporter": "python",
   "pygments_lexer": "ipython3",
   "version": "3.7.6"
  }
 },
 "nbformat": 4,
 "nbformat_minor": 4
}
