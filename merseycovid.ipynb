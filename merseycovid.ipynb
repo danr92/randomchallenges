{
 "cells": [
  {
   "cell_type": "code",
   "execution_count": 59,
   "metadata": {},
   "outputs": [],
   "source": [
    "import numpy as np\n",
    "import pandas as pd\n",
    "import matplotlib.pyplot as plt\n",
    "%matplotlib inline"
   ]
  },
  {
   "cell_type": "code",
   "execution_count": 29,
   "metadata": {},
   "outputs": [],
   "source": [
    "wkending = ['29/08/20','05/09/20','12/09/20','19/09/20','26/09/20']\n",
    "halton = [4.7,30.4,68.5,174.4,225.8]\n",
    "knowsley = [10.7,41.5,107.0,179.2,286.2]\n",
    "liverpool = [15.2,51.5,105.9,183.1,269.8]\n",
    "sefton = [13.4,35.9,55.6,112.2,181.6]\n",
    "sthelens = [7.2,36.1,113.9,119.4,203.3]\n",
    "wirral = [30.0,58.8,103.9,143.9,161.5]\n",
    "areas = ['Halton','Knowsley','Liverpool','Sefton','St Helens','Wirral']\n"
   ]
  },
  {
   "cell_type": "code",
   "execution_count": 30,
   "metadata": {},
   "outputs": [],
   "source": [
    "merseylist = [halton,knowsley,liverpool,sefton,sthelens,wirral]"
   ]
  },
  {
   "cell_type": "code",
   "execution_count": 31,
   "metadata": {},
   "outputs": [],
   "source": [
    "df1 = pd.DataFrame(merseylist, columns=wkending, index = areas)"
   ]
  },
  {
   "cell_type": "code",
   "execution_count": 35,
   "metadata": {},
   "outputs": [],
   "source": [
    "wk1 = [df1['29/08/20']]\n",
    "wk2 = [df1['05/09/20']]\n",
    "wk3 = [df1['12/09/20']]\n",
    "wk4 = [df1['19/09/20']]\n",
    "wk5 = [df1['26/09/20']]\n"
   ]
  },
  {
   "cell_type": "code",
   "execution_count": 51,
   "metadata": {},
   "outputs": [],
   "source": [
    "df = pd.DataFrame(wk1)"
   ]
  },
  {
   "cell_type": "code",
   "execution_count": 52,
   "metadata": {},
   "outputs": [],
   "source": [
    "df2 = pd.DataFrame(wk2)\n",
    "df3 = pd.DataFrame(wk3)\n",
    "df4 = pd.DataFrame(wk4)\n",
    "df5 = pd.DataFrame(wk5)"
   ]
  },
  {
   "cell_type": "code",
   "execution_count": 55,
   "metadata": {},
   "outputs": [],
   "source": [
    "df = pd.concat([df,df2,df3,df4,df5])"
   ]
  },
  {
   "cell_type": "code",
   "execution_count": 56,
   "metadata": {},
   "outputs": [
    {
     "data": {
      "text/html": [
       "<div>\n",
       "<style scoped>\n",
       "    .dataframe tbody tr th:only-of-type {\n",
       "        vertical-align: middle;\n",
       "    }\n",
       "\n",
       "    .dataframe tbody tr th {\n",
       "        vertical-align: top;\n",
       "    }\n",
       "\n",
       "    .dataframe thead th {\n",
       "        text-align: right;\n",
       "    }\n",
       "</style>\n",
       "<table border=\"1\" class=\"dataframe\">\n",
       "  <thead>\n",
       "    <tr style=\"text-align: right;\">\n",
       "      <th></th>\n",
       "      <th>Halton</th>\n",
       "      <th>Knowsley</th>\n",
       "      <th>Liverpool</th>\n",
       "      <th>Sefton</th>\n",
       "      <th>St Helens</th>\n",
       "      <th>Wirral</th>\n",
       "    </tr>\n",
       "  </thead>\n",
       "  <tbody>\n",
       "    <tr>\n",
       "      <th>29/08/20</th>\n",
       "      <td>4.7</td>\n",
       "      <td>10.7</td>\n",
       "      <td>15.2</td>\n",
       "      <td>13.4</td>\n",
       "      <td>7.2</td>\n",
       "      <td>30.0</td>\n",
       "    </tr>\n",
       "    <tr>\n",
       "      <th>05/09/20</th>\n",
       "      <td>30.4</td>\n",
       "      <td>41.5</td>\n",
       "      <td>51.5</td>\n",
       "      <td>35.9</td>\n",
       "      <td>36.1</td>\n",
       "      <td>58.8</td>\n",
       "    </tr>\n",
       "    <tr>\n",
       "      <th>12/09/20</th>\n",
       "      <td>68.5</td>\n",
       "      <td>107.0</td>\n",
       "      <td>105.9</td>\n",
       "      <td>55.6</td>\n",
       "      <td>113.9</td>\n",
       "      <td>103.9</td>\n",
       "    </tr>\n",
       "    <tr>\n",
       "      <th>19/09/20</th>\n",
       "      <td>174.4</td>\n",
       "      <td>179.2</td>\n",
       "      <td>183.1</td>\n",
       "      <td>112.2</td>\n",
       "      <td>119.4</td>\n",
       "      <td>143.9</td>\n",
       "    </tr>\n",
       "    <tr>\n",
       "      <th>26/09/20</th>\n",
       "      <td>225.8</td>\n",
       "      <td>286.2</td>\n",
       "      <td>269.8</td>\n",
       "      <td>181.6</td>\n",
       "      <td>203.3</td>\n",
       "      <td>161.5</td>\n",
       "    </tr>\n",
       "  </tbody>\n",
       "</table>\n",
       "</div>"
      ],
      "text/plain": [
       "          Halton  Knowsley  Liverpool  Sefton  St Helens  Wirral\n",
       "29/08/20     4.7      10.7       15.2    13.4        7.2    30.0\n",
       "05/09/20    30.4      41.5       51.5    35.9       36.1    58.8\n",
       "12/09/20    68.5     107.0      105.9    55.6      113.9   103.9\n",
       "19/09/20   174.4     179.2      183.1   112.2      119.4   143.9\n",
       "26/09/20   225.8     286.2      269.8   181.6      203.3   161.5"
      ]
     },
     "execution_count": 56,
     "metadata": {},
     "output_type": "execute_result"
    }
   ],
   "source": [
    "df"
   ]
  },
  {
   "cell_type": "code",
   "execution_count": 72,
   "metadata": {},
   "outputs": [
    {
     "name": "stdout",
     "output_type": "stream",
     "text": [
      "Help on built-in function round in module builtins:\n",
      "\n",
      "round(number, ndigits=None)\n",
      "    Round a number to a given precision in decimal digits.\n",
      "    \n",
      "    The return value is an integer if ndigits is omitted or None.  Otherwise\n",
      "    the return value has the same type as the number.  ndigits may be negative.\n",
      "\n"
     ]
    },
    {
     "data": {
      "image/png": "[encoded data removed]",
      "text/plain": [
       "<Figure size 432x288 with 1 Axes>"
      ]
     },
     "metadata": {
      "needs_background": "light"
     },
     "output_type": "display_data"
    }
   ],
   "source": [
    "plt.plot(df)\n",
    "help(round)"
   ]
  },
  {
   "cell_type": "code",
   "execution_count": 76,
   "metadata": {},
   "outputs": [],
   "source": [
    "hrate = []\n",
    "krate = []\n",
    "lrate = []\n",
    "srate = []\n",
    "strate = []\n",
    "wrate = []\n",
    "\n",
    "for n in range(0,5):\n",
    "    rate = halton[n]/halton[n-1]\n",
    "    hrate.append(round(rate, ndigits=2))\n",
    "    \n",
    "    rate = knowsley[n]/knowsley[n-1]\n",
    "    krate.append(round(rate, ndigits=2))\n",
    "    \n",
    "    rate = liverpool[n]/liverpool[n-1]\n",
    "    lrate.append(round(rate, ndigits=2))\n",
    "    \n",
    "    rate = sefton[n]/sefton[n-1]\n",
    "    srate.append(round(rate, ndigits=2))\n",
    "    \n",
    "    rate = sthelens[n]/sthelens[n-1]\n",
    "    strate.append(round(rate, ndigits=2))\n",
    "    \n",
    "    rate = wirral[n]/wirral[n-1]\n",
    "    wrate.append(round(rate, ndigits=2))"
   ]
  },
  {
   "cell_type": "code",
   "execution_count": 77,
   "metadata": {},
   "outputs": [
    {
     "name": "stdout",
     "output_type": "stream",
     "text": [
      "[0.02, 6.47, 2.25, 2.55, 1.29]\n",
      "[0.04, 3.88, 2.58, 1.67, 1.6]\n",
      "[0.06, 3.39, 2.06, 1.73, 1.47]\n",
      "[0.07, 2.68, 1.55, 2.02, 1.62]\n",
      "[0.04, 5.01, 3.16, 1.05, 1.7]\n",
      "[0.19, 1.96, 1.77, 1.38, 1.12]\n"
     ]
    }
   ],
   "source": [
    "print(hrate)\n",
    "print(krate)\n",
    "print(lrate)\n",
    "print(srate)\n",
    "print(strate)\n",
    "print(wrate)"
   ]
  },
  {
   "cell_type": "code",
   "execution_count": 92,
   "metadata": {},
   "outputs": [],
   "source": [
    "rates=[hrate,krate,lrate,srate,strate,wrate]\n",
    "ratesdf = pd.DataFrame(rates, columns = wkending,index = areas)\n",
    "ratesdf = ratesdf.T"
   ]
  },
  {
   "cell_type": "code",
   "execution_count": 129,
   "metadata": {},
   "outputs": [
    {
     "data": {
      "text/html": [
       "<div>\n",
       "<style scoped>\n",
       "    .dataframe tbody tr th:only-of-type {\n",
       "        vertical-align: middle;\n",
       "    }\n",
       "\n",
       "    .dataframe tbody tr th {\n",
       "        vertical-align: top;\n",
       "    }\n",
       "\n",
       "    .dataframe thead th {\n",
       "        text-align: right;\n",
       "    }\n",
       "</style>\n",
       "<table border=\"1\" class=\"dataframe\">\n",
       "  <thead>\n",
       "    <tr style=\"text-align: right;\">\n",
       "      <th></th>\n",
       "      <th>Halton</th>\n",
       "      <th>Knowsley</th>\n",
       "      <th>Liverpool</th>\n",
       "      <th>Sefton</th>\n",
       "      <th>St Helens</th>\n",
       "      <th>Wirral</th>\n",
       "      <th>Merseyside Toal</th>\n",
       "      <th>Merseyside Total</th>\n",
       "    </tr>\n",
       "  </thead>\n",
       "  <tbody>\n",
       "    <tr>\n",
       "      <th>29/08/20</th>\n",
       "      <td>0.02</td>\n",
       "      <td>0.04</td>\n",
       "      <td>0.06</td>\n",
       "      <td>0.07</td>\n",
       "      <td>0.04</td>\n",
       "      <td>0.19</td>\n",
       "      <td>0.42</td>\n",
       "      <td>0.84</td>\n",
       "    </tr>\n",
       "    <tr>\n",
       "      <th>05/09/20</th>\n",
       "      <td>6.47</td>\n",
       "      <td>3.88</td>\n",
       "      <td>3.39</td>\n",
       "      <td>2.68</td>\n",
       "      <td>5.01</td>\n",
       "      <td>1.96</td>\n",
       "      <td>23.39</td>\n",
       "      <td>46.78</td>\n",
       "    </tr>\n",
       "    <tr>\n",
       "      <th>12/09/20</th>\n",
       "      <td>2.25</td>\n",
       "      <td>2.58</td>\n",
       "      <td>2.06</td>\n",
       "      <td>1.55</td>\n",
       "      <td>3.16</td>\n",
       "      <td>1.77</td>\n",
       "      <td>13.37</td>\n",
       "      <td>26.74</td>\n",
       "    </tr>\n",
       "    <tr>\n",
       "      <th>19/09/20</th>\n",
       "      <td>2.55</td>\n",
       "      <td>1.67</td>\n",
       "      <td>1.73</td>\n",
       "      <td>2.02</td>\n",
       "      <td>1.05</td>\n",
       "      <td>1.38</td>\n",
       "      <td>10.40</td>\n",
       "      <td>20.80</td>\n",
       "    </tr>\n",
       "    <tr>\n",
       "      <th>26/09/20</th>\n",
       "      <td>1.29</td>\n",
       "      <td>1.60</td>\n",
       "      <td>1.47</td>\n",
       "      <td>1.62</td>\n",
       "      <td>1.70</td>\n",
       "      <td>1.12</td>\n",
       "      <td>8.80</td>\n",
       "      <td>17.60</td>\n",
       "    </tr>\n",
       "  </tbody>\n",
       "</table>\n",
       "</div>"
      ],
      "text/plain": [
       "          Halton  Knowsley  Liverpool  Sefton  St Helens  Wirral  \\\n",
       "29/08/20    0.02      0.04       0.06    0.07       0.04    0.19   \n",
       "05/09/20    6.47      3.88       3.39    2.68       5.01    1.96   \n",
       "12/09/20    2.25      2.58       2.06    1.55       3.16    1.77   \n",
       "19/09/20    2.55      1.67       1.73    2.02       1.05    1.38   \n",
       "26/09/20    1.29      1.60       1.47    1.62       1.70    1.12   \n",
       "\n",
       "          Merseyside Toal  Merseyside Total  \n",
       "29/08/20             0.42              0.84  \n",
       "05/09/20            23.39             46.78  \n",
       "12/09/20            13.37             26.74  \n",
       "19/09/20            10.40             20.80  \n",
       "26/09/20             8.80             17.60  "
      ]
     },
     "execution_count": 129,
     "metadata": {},
     "output_type": "execute_result"
    }
   ],
   "source": [
    "ratesdf['Merseyside Total']=ratesdf.sum(axis=1)\n",
    "ratesdf"
   ]
  },
  {
   "cell_type": "code",
   "execution_count": 133,
   "metadata": {},
   "outputs": [],
   "source": [
    "ratesdf=ratesdf.drop('Merseyside Toal',axis=1)"
   ]
  },
  {
   "cell_type": "code",
   "execution_count": 142,
   "metadata": {},
   "outputs": [
    {
     "data": {
      "text/plain": [
       "[29/08/20     0.42\n",
       " 05/09/20    23.39\n",
       " 12/09/20    13.37\n",
       " 19/09/20    10.40\n",
       " 26/09/20     8.80\n",
       " dtype: float64]"
      ]
     },
     "execution_count": 142,
     "metadata": {},
     "output_type": "execute_result"
    }
   ],
   "source": [
    "ratesdf=ratesdf.drop('Merseyside Total',axis=1)\n",
    "total = [ratesdf.sum(axis=1)]\n",
    "total\n",
    "    "
   ]
  },
  {
   "cell_type": "code",
   "execution_count": 145,
   "metadata": {},
   "outputs": [
    {
     "name": "stdout",
     "output_type": "stream",
     "text": [
      "          Halton  Knowsley  Liverpool  Sefton  St Helens  Wirral\n",
      "29/08/20    0.02      0.04       0.06    0.07       0.04    0.19\n",
      "05/09/20    6.47      3.88       3.39    2.68       5.01    1.96\n",
      "12/09/20    2.25      2.58       2.06    1.55       3.16    1.77\n",
      "19/09/20    2.55      1.67       1.73    2.02       1.05    1.38\n",
      "26/09/20    1.29      1.60       1.47    1.62       1.70    1.12\n"
     ]
    },
    {
     "data": {
      "image/png": "[encoded data removed]",
      "text/plain": [
       "<Figure size 504x360 with 1 Axes>"
      ]
     },
     "metadata": {
      "needs_background": "light"
     },
     "output_type": "display_data"
    }
   ],
   "source": [
    "fig, ax = plt.subplots()\n",
    "fig.set_size_inches(7, 5)\n",
    "plt.plot(ratesdf)\n",
    "#plt.plot(total)\n",
    "plt.legend={'Halton', 'Knowsley', 'Liverpool', 'Sefton','St Helens','Wirral'}\n",
    "\n",
    "ax.set_xlabel(\"Week Ending\")\n",
    "ax.set_ylabel(\"Increase Rate\")\n",
    "#plt.legend(loc=\"upper right\")\n",
    "\n",
    "print(ratesdf)"
   ]
  },
  {
   "cell_type": "code",
   "execution_count": null,
   "metadata": {},
   "outputs": [],
   "source": []
  },
  {
   "cell_type": "code",
   "execution_count": null,
   "metadata": {},
   "outputs": [],
   "source": []
  }
 ],
 "metadata": {
  "kernelspec": {
   "display_name": "Python 3",
   "language": "python",
   "name": "python3"
  },
  "language_info": {
   "codemirror_mode": {
    "name": "ipython",
    "version": 3
   },
   "file_extension": ".py",
   "mimetype": "text/x-python",
   "name": "python",
   "nbconvert_exporter": "python",
   "pygments_lexer": "ipython3",
   "version": "3.7.6"
  }
 },
 "nbformat": 4,
 "nbformat_minor": 4
}
